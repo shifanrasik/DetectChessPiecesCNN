{
  "nbformat": 4,
  "nbformat_minor": 0,
  "metadata": {
    "colab": {
      "provenance": [],
      "mount_file_id": "1pNlva6cPlw544-egwUgFu-6uggcF6Yfb",
      "authorship_tag": "ABX9TyPge7IhJHYIY5jFpDSy1bJc",
      "include_colab_link": true
    },
    "kernelspec": {
      "name": "python3",
      "display_name": "Python 3"
    },
    "language_info": {
      "name": "python"
    }
  },
  "cells": [
    {
      "cell_type": "markdown",
      "metadata": {
        "id": "view-in-github",
        "colab_type": "text"
      },
      "source": [
        "<a href=\"https://colab.research.google.com/github/shifanrasik/DetectChessPiecesCNN/blob/main/lab4cnnmlom.ipynb\" target=\"_parent\"><img src=\"https://colab.research.google.com/assets/colab-badge.svg\" alt=\"Open In Colab\"/></a>"
      ]
    },
    {
      "cell_type": "code",
      "execution_count": null,
      "metadata": {
        "id": "fDJ1_FYrYbkf"
      },
      "outputs": [],
      "source": []
    },
    {
      "cell_type": "code",
      "source": [
        "from google.colab import drive\n",
        "drive.mount('/content/drive')"
      ],
      "metadata": {
        "colab": {
          "base_uri": "https://localhost:8080/"
        },
        "id": "yoPG4ZtHcYHT",
        "outputId": "afed31b8-53ee-4339-b62c-38a3b2d6f3bf"
      },
      "execution_count": null,
      "outputs": [
        {
          "output_type": "stream",
          "name": "stdout",
          "text": [
            "Drive already mounted at /content/drive; to attempt to forcibly remount, call drive.mount(\"/content/drive\", force_remount=True).\n"
          ]
        }
      ]
    },
    {
      "cell_type": "code",
      "source": [
        "import tensorflow as tf\n",
        "from tensorflow import keras"
      ],
      "metadata": {
        "id": "981dN8Y8hBsL"
      },
      "execution_count": null,
      "outputs": []
    },
    {
      "cell_type": "code",
      "source": [
        "train_path='/content/drive/MyDrive/MLOM/archive'\n"
      ],
      "metadata": {
        "id": "YhYLuzDmhklE"
      },
      "execution_count": null,
      "outputs": []
    },
    {
      "cell_type": "code",
      "source": [
        "#\n",
        "model=tf.keras.models.Sequential([\n",
        "    #input layer\n",
        "    tf.keras.layers.Conv2D(filters=2,kernel_size=3, activation='sigmoid',input_shape=(124,124,3),strides=1, padding='valid'),\n",
        "    tf.keras.layers.MaxPooling2D(2,2),\n",
        "\n",
        "    tf.keras.layers.Conv2D(filters=2,kernel_size=3, activation='relu',strides=1, padding='valid'),\n",
        "    tf.keras.layers.MaxPooling2D(pool_size=2),\n",
        "\n",
        "    tf.keras.layers.Flatten(),\n",
        "\n",
        "    tf.keras.layers.Dense(50,activation='relu'),\n",
        "\n",
        "    tf.keras.layers.Dense(5,activation='softmax')\n",
        "\n",
        "])"
      ],
      "metadata": {
        "id": "RqJSA7SYhT5B"
      },
      "execution_count": null,
      "outputs": []
    },
    {
      "cell_type": "code",
      "source": [
        "model.summary()"
      ],
      "metadata": {
        "colab": {
          "base_uri": "https://localhost:8080/"
        },
        "id": "NkMLTL2JmlLA",
        "outputId": "cc54b3af-e9d3-476a-da42-e2d3b1fa2959"
      },
      "execution_count": null,
      "outputs": [
        {
          "output_type": "stream",
          "name": "stdout",
          "text": [
            "Model: \"sequential\"\n",
            "_________________________________________________________________\n",
            " Layer (type)                Output Shape              Param #   \n",
            "=================================================================\n",
            " conv2d (Conv2D)             (None, 122, 122, 2)       56        \n",
            "                                                                 \n",
            " max_pooling2d (MaxPooling2  (None, 61, 61, 2)         0         \n",
            " D)                                                              \n",
            "                                                                 \n",
            " conv2d_1 (Conv2D)           (None, 59, 59, 2)         38        \n",
            "                                                                 \n",
            " max_pooling2d_1 (MaxPoolin  (None, 29, 29, 2)         0         \n",
            " g2D)                                                            \n",
            "                                                                 \n",
            " flatten (Flatten)           (None, 1682)              0         \n",
            "                                                                 \n",
            " dense (Dense)               (None, 50)                84150     \n",
            "                                                                 \n",
            " dense_1 (Dense)             (None, 5)                 255       \n",
            "                                                                 \n",
            "=================================================================\n",
            "Total params: 84499 (330.07 KB)\n",
            "Trainable params: 84499 (330.07 KB)\n",
            "Non-trainable params: 0 (0.00 Byte)\n",
            "_________________________________________________________________\n"
          ]
        }
      ]
    },
    {
      "cell_type": "code",
      "source": [
        "dataset_dir = '/content/drive/MyDrive/MLOM/archive'"
      ],
      "metadata": {
        "id": "fzZSw5nknPIg"
      },
      "execution_count": null,
      "outputs": []
    },
    {
      "cell_type": "code",
      "source": [
        "\n",
        "from tensorflow.keras.preprocessing.image import ImageDataGenerator\n",
        "# Create data generators for training and validation\n",
        "train_datagen = ImageDataGenerator(\n",
        "    rescale=1.0/255.0,\n",
        "    validation_split=0.2\n",
        ")\n",
        "\n",
        "train_generator = train_datagen.flow_from_directory(\n",
        "    dataset_dir,\n",
        "    target_size=(124, 124),\n",
        "    batch_size=16,\n",
        "    class_mode='categorical',\n",
        "    subset='training'\n",
        ")\n",
        "\n",
        "validation_generator = train_datagen.flow_from_directory(\n",
        "    dataset_dir,\n",
        "    target_size=(124, 124),\n",
        "    batch_size=16,\n",
        "    class_mode='categorical',\n",
        "    subset='validation'\n",
        ")\n"
      ],
      "metadata": {
        "colab": {
          "base_uri": "https://localhost:8080/"
        },
        "id": "nJrf0NhQnXiQ",
        "outputId": "d434c5ad-0b02-4481-a801-fa5c5b0fd77c"
      },
      "execution_count": null,
      "outputs": [
        {
          "output_type": "stream",
          "name": "stdout",
          "text": [
            "Found 523 images belonging to 5 classes.\n",
            "Found 128 images belonging to 5 classes.\n"
          ]
        }
      ]
    },
    {
      "cell_type": "code",
      "source": [
        "#compile model\n",
        "optimizer=tf.keras.optimizers.Adam(learning_rate=0.001)\n",
        "model.compile(optimizer=optimizer,\n",
        "              loss='categorical_crossentropy',\n",
        "              metrics=['accuracy'])\n"
      ],
      "metadata": {
        "id": "dggFNy5ZqZVv"
      },
      "execution_count": null,
      "outputs": []
    },
    {
      "cell_type": "code",
      "source": [
        "\n",
        "\n",
        "history = model.fit(\n",
        "    train_generator,\n",
        "    steps_per_epoch=train_generator.samples // 16,\n",
        "    epochs=50,\n",
        "    validation_data=validation_generator,\n",
        "    validation_steps=validation_generator.samples // 16\n",
        ")"
      ],
      "metadata": {
        "colab": {
          "base_uri": "https://localhost:8080/"
        },
        "id": "vstcEZ0MrLXN",
        "outputId": "570cf22b-39a6-44cf-e5f7-66f81416cb8e"
      },
      "execution_count": null,
      "outputs": [
        {
          "output_type": "stream",
          "name": "stdout",
          "text": [
            "Epoch 1/50\n",
            "32/32 [==============================] - 155s 5s/step - loss: 1.5971 - accuracy: 0.2485 - val_loss: 1.5759 - val_accuracy: 0.2656\n",
            "Epoch 2/50\n",
            "32/32 [==============================] - 5s 144ms/step - loss: 1.5766 - accuracy: 0.2801 - val_loss: 1.5622 - val_accuracy: 0.2656\n",
            "Epoch 3/50\n",
            "32/32 [==============================] - 4s 135ms/step - loss: 1.5348 - accuracy: 0.3314 - val_loss: 1.5412 - val_accuracy: 0.2812\n",
            "Epoch 4/50\n",
            "32/32 [==============================] - 7s 217ms/step - loss: 1.4923 - accuracy: 0.3767 - val_loss: 1.5160 - val_accuracy: 0.4219\n",
            "Epoch 5/50\n",
            "32/32 [==============================] - 4s 128ms/step - loss: 1.4301 - accuracy: 0.4418 - val_loss: 1.4906 - val_accuracy: 0.3828\n",
            "Epoch 6/50\n",
            "32/32 [==============================] - 6s 202ms/step - loss: 1.3746 - accuracy: 0.4852 - val_loss: 1.4359 - val_accuracy: 0.4297\n",
            "Epoch 7/50\n",
            "32/32 [==============================] - 4s 131ms/step - loss: 1.3043 - accuracy: 0.4970 - val_loss: 1.4111 - val_accuracy: 0.4297\n",
            "Epoch 8/50\n",
            "32/32 [==============================] - 7s 220ms/step - loss: 1.2323 - accuracy: 0.5562 - val_loss: 1.3660 - val_accuracy: 0.4922\n",
            "Epoch 9/50\n",
            "32/32 [==============================] - 4s 130ms/step - loss: 1.1338 - accuracy: 0.5700 - val_loss: 1.3620 - val_accuracy: 0.4453\n",
            "Epoch 10/50\n",
            "32/32 [==============================] - 6s 197ms/step - loss: 1.0983 - accuracy: 0.5917 - val_loss: 1.3179 - val_accuracy: 0.4375\n",
            "Epoch 11/50\n",
            "32/32 [==============================] - 4s 133ms/step - loss: 0.9917 - accuracy: 0.6509 - val_loss: 1.3037 - val_accuracy: 0.4844\n",
            "Epoch 12/50\n",
            "32/32 [==============================] - 4s 134ms/step - loss: 0.9357 - accuracy: 0.6706 - val_loss: 1.2907 - val_accuracy: 0.4844\n",
            "Epoch 13/50\n",
            "32/32 [==============================] - 7s 206ms/step - loss: 0.8585 - accuracy: 0.6982 - val_loss: 1.2906 - val_accuracy: 0.4531\n",
            "Epoch 14/50\n",
            "32/32 [==============================] - 4s 132ms/step - loss: 0.8057 - accuracy: 0.7258 - val_loss: 1.4407 - val_accuracy: 0.4375\n",
            "Epoch 15/50\n",
            "32/32 [==============================] - 4s 132ms/step - loss: 0.7658 - accuracy: 0.7396 - val_loss: 1.3075 - val_accuracy: 0.5078\n",
            "Epoch 16/50\n",
            "32/32 [==============================] - 6s 181ms/step - loss: 0.7008 - accuracy: 0.7692 - val_loss: 1.3372 - val_accuracy: 0.4766\n",
            "Epoch 17/50\n",
            "32/32 [==============================] - 4s 132ms/step - loss: 0.6463 - accuracy: 0.7791 - val_loss: 1.3411 - val_accuracy: 0.5312\n",
            "Epoch 18/50\n",
            "32/32 [==============================] - 6s 188ms/step - loss: 0.5987 - accuracy: 0.8107 - val_loss: 1.3725 - val_accuracy: 0.5000\n",
            "Epoch 19/50\n",
            "32/32 [==============================] - 5s 143ms/step - loss: 0.5432 - accuracy: 0.8462 - val_loss: 1.4009 - val_accuracy: 0.5000\n",
            "Epoch 20/50\n",
            "32/32 [==============================] - 4s 134ms/step - loss: 0.5140 - accuracy: 0.8363 - val_loss: 1.4459 - val_accuracy: 0.4844\n",
            "Epoch 21/50\n",
            "32/32 [==============================] - 7s 204ms/step - loss: 0.4603 - accuracy: 0.8935 - val_loss: 1.4601 - val_accuracy: 0.5234\n",
            "Epoch 22/50\n",
            "32/32 [==============================] - 4s 134ms/step - loss: 0.4122 - accuracy: 0.8856 - val_loss: 1.5167 - val_accuracy: 0.4922\n",
            "Epoch 23/50\n",
            "32/32 [==============================] - 4s 132ms/step - loss: 0.3894 - accuracy: 0.8856 - val_loss: 1.5047 - val_accuracy: 0.5469\n",
            "Epoch 24/50\n",
            "32/32 [==============================] - 6s 188ms/step - loss: 0.3358 - accuracy: 0.9250 - val_loss: 1.5928 - val_accuracy: 0.5156\n",
            "Epoch 25/50\n",
            "32/32 [==============================] - 4s 133ms/step - loss: 0.3213 - accuracy: 0.9132 - val_loss: 1.5978 - val_accuracy: 0.5234\n",
            "Epoch 26/50\n",
            "32/32 [==============================] - 5s 147ms/step - loss: 0.3208 - accuracy: 0.9152 - val_loss: 1.6626 - val_accuracy: 0.5391\n",
            "Epoch 27/50\n",
            "32/32 [==============================] - 6s 185ms/step - loss: 0.2919 - accuracy: 0.9231 - val_loss: 1.7118 - val_accuracy: 0.4922\n",
            "Epoch 28/50\n",
            "32/32 [==============================] - 4s 131ms/step - loss: 0.2716 - accuracy: 0.9389 - val_loss: 1.6358 - val_accuracy: 0.5156\n",
            "Epoch 29/50\n",
            "32/32 [==============================] - 4s 135ms/step - loss: 0.2462 - accuracy: 0.9369 - val_loss: 1.6841 - val_accuracy: 0.5234\n",
            "Epoch 30/50\n",
            "32/32 [==============================] - 6s 171ms/step - loss: 0.2176 - accuracy: 0.9566 - val_loss: 1.7515 - val_accuracy: 0.5234\n",
            "Epoch 31/50\n",
            "32/32 [==============================] - 5s 160ms/step - loss: 0.1997 - accuracy: 0.9586 - val_loss: 1.8435 - val_accuracy: 0.5312\n",
            "Epoch 32/50\n",
            "32/32 [==============================] - 4s 132ms/step - loss: 0.2110 - accuracy: 0.9428 - val_loss: 1.8341 - val_accuracy: 0.5156\n",
            "Epoch 33/50\n",
            "32/32 [==============================] - 6s 196ms/step - loss: 0.1763 - accuracy: 0.9665 - val_loss: 1.8665 - val_accuracy: 0.5859\n",
            "Epoch 34/50\n",
            "32/32 [==============================] - 4s 135ms/step - loss: 0.1662 - accuracy: 0.9665 - val_loss: 1.9504 - val_accuracy: 0.5391\n",
            "Epoch 35/50\n",
            "32/32 [==============================] - 4s 126ms/step - loss: 0.1507 - accuracy: 0.9744 - val_loss: 1.9176 - val_accuracy: 0.5156\n",
            "Epoch 36/50\n",
            "32/32 [==============================] - 9s 282ms/step - loss: 0.1557 - accuracy: 0.9704 - val_loss: 1.9542 - val_accuracy: 0.5625\n",
            "Epoch 37/50\n",
            "32/32 [==============================] - 9s 283ms/step - loss: 0.1661 - accuracy: 0.9625 - val_loss: 1.9582 - val_accuracy: 0.5625\n",
            "Epoch 38/50\n",
            "32/32 [==============================] - 4s 130ms/step - loss: 0.1473 - accuracy: 0.9744 - val_loss: 2.0032 - val_accuracy: 0.5234\n",
            "Epoch 39/50\n",
            "32/32 [==============================] - 4s 130ms/step - loss: 0.1459 - accuracy: 0.9704 - val_loss: 1.9710 - val_accuracy: 0.5234\n",
            "Epoch 40/50\n",
            "32/32 [==============================] - 7s 219ms/step - loss: 0.1356 - accuracy: 0.9724 - val_loss: 2.1057 - val_accuracy: 0.5469\n",
            "Epoch 41/50\n",
            "32/32 [==============================] - 4s 135ms/step - loss: 0.1112 - accuracy: 0.9724 - val_loss: 2.0693 - val_accuracy: 0.5547\n",
            "Epoch 42/50\n",
            "32/32 [==============================] - 4s 133ms/step - loss: 0.1072 - accuracy: 0.9763 - val_loss: 2.2038 - val_accuracy: 0.5312\n",
            "Epoch 43/50\n",
            "32/32 [==============================] - 7s 205ms/step - loss: 0.1179 - accuracy: 0.9744 - val_loss: 2.0681 - val_accuracy: 0.5234\n",
            "Epoch 44/50\n",
            "32/32 [==============================] - 4s 130ms/step - loss: 0.1023 - accuracy: 0.9783 - val_loss: 2.1502 - val_accuracy: 0.5234\n",
            "Epoch 45/50\n",
            "32/32 [==============================] - 7s 214ms/step - loss: 0.1086 - accuracy: 0.9744 - val_loss: 2.2438 - val_accuracy: 0.4844\n",
            "Epoch 46/50\n",
            "32/32 [==============================] - 4s 134ms/step - loss: 0.0992 - accuracy: 0.9783 - val_loss: 2.1628 - val_accuracy: 0.4922\n",
            "Epoch 47/50\n",
            "32/32 [==============================] - 6s 202ms/step - loss: 0.1177 - accuracy: 0.9744 - val_loss: 2.0996 - val_accuracy: 0.4609\n",
            "Epoch 48/50\n",
            "32/32 [==============================] - 4s 133ms/step - loss: 0.0939 - accuracy: 0.9803 - val_loss: 2.3335 - val_accuracy: 0.5000\n",
            "Epoch 49/50\n",
            "32/32 [==============================] - 4s 128ms/step - loss: 0.0895 - accuracy: 0.9822 - val_loss: 2.2565 - val_accuracy: 0.4922\n",
            "Epoch 50/50\n",
            "32/32 [==============================] - 6s 200ms/step - loss: 0.0863 - accuracy: 0.9744 - val_loss: 2.3681 - val_accuracy: 0.5000\n"
          ]
        }
      ]
    },
    {
      "cell_type": "code",
      "source": [
        "import matplotlib.pyplot as plt\n",
        "#plot the loss\n",
        "\n",
        "plt.plot(history.history['loss'], label='train loss')\n",
        "plt.plot(history.history['val_loss'], label='val loss')\n",
        "plt.legend()\n",
        "plt.show()\n",
        "plt.savefig('Accval_acc')"
      ],
      "metadata": {
        "colab": {
          "base_uri": "https://localhost:8080/",
          "height": 447
        },
        "id": "3SV3Fe-zvzhM",
        "outputId": "71cf50c1-92ad-41f4-c565-8e3209bfa7fb"
      },
      "execution_count": null,
      "outputs": [
        {
          "output_type": "display_data",
          "data": {
            "text/plain": [
              "<Figure size 640x480 with 1 Axes>"
            ],
            "image/png": "[encoded data removed]"
          },
          "metadata": {}
        },
        {
          "output_type": "display_data",
          "data": {
            "text/plain": [
              "<Figure size 640x480 with 0 Axes>"
            ]
          },
          "metadata": {}
        }
      ]
    },
    {
      "cell_type": "code",
      "source": [
        "#plot the accuracy\n",
        "plt.plot(history.history['accuracy'], label='train acc')\n",
        "plt.plot(history.history['val_accuracy'], label='val acc')\n",
        "plt.legend()\n",
        "plt.show()\n",
        "plt.savefig('Accval_acc')"
      ],
      "metadata": {
        "id": "9g71gZ2v10_V",
        "outputId": "d81f0de5-edaf-4a3b-a717-283f8c530a5b",
        "colab": {
          "base_uri": "https://localhost:8080/",
          "height": 447
        }
      },
      "execution_count": null,
      "outputs": [
        {
          "output_type": "display_data",
          "data": {
            "text/plain": [
              "<Figure size 640x480 with 1 Axes>"
            ],
            "image/png": "[encoded data removed]"
          },
          "metadata": {}
        },
        {
          "output_type": "display_data",
          "data": {
            "text/plain": [
              "<Figure size 640x480 with 0 Axes>"
            ]
          },
          "metadata": {}
        }
      ]
    }
  ]
}